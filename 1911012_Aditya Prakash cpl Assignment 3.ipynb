{
    "cells": [
        {
            "cell_type": "code",
            "execution_count": 37,
            "source": [
                "#Importing the library\r\n",
                "import my_library \r\n",
                "Q1=my_library.Matrix(my_library.read_matrix('mat1.csv')) #Augmented matrix\r\n",
                "Q2=my_library.Matrix(my_library.read_matrix('mat2.csv')) #Augmented matrix\r\n",
                "Q3=my_library.Matrix(my_library.read_matrix('mat3.csv')) #Augmented matrix\r\n",
                "Q3_matrix=my_library.Matrix(my_library.read_matrix('matrix.csv')) #not augmented matrix\r\n",
                "Q4=my_library.Matrix(my_library.read_matrix('mat4.csv')) #Augmented matrix"
            ],
            "outputs": [],
            "metadata": {}
        },
        {
            "cell_type": "code",
            "execution_count": 38,
            "source": [
                "#Solving Question 1\r\n",
                "Q1.show()\r\n",
                "#Below is our augmented Matrix "
            ],
            "outputs": [
                {
                    "output_type": "stream",
                    "name": "stdout",
                    "text": [
                        "1,1,1,1,13,\n",
                        "\n",
                        "2,3,0,-1,-1,\n",
                        "\n",
                        "-3,4,1,2,10,\n",
                        "\n",
                        "1,2,-1,1,1,\n",
                        "\n"
                    ]
                }
            ],
            "metadata": {}
        },
        {
            "cell_type": "code",
            "execution_count": 39,
            "source": [
                "my_library.GaussJordan(Q1)\r\n",
                "Q1.show() # \r\n",
                "# Solution with very small values are taken to be 0\r\n",
                "# solutions are the last coloumn in augmented matrix"
            ],
            "outputs": [
                {
                    "output_type": "stream",
                    "name": "stdout",
                    "text": [
                        "1.0,0.0,0.0,0.0,2.000000000000001,\n",
                        "\n",
                        "0.0,1.0,0.0,0.0,-1.3322676295501878e-15,\n",
                        "\n",
                        "0.0,0.0,1.0,0.0,5.999999999999999,\n",
                        "\n",
                        "0.0,0.0,0.0,1.0,5.0,\n",
                        "\n"
                    ]
                }
            ],
            "metadata": {}
        },
        {
            "cell_type": "code",
            "execution_count": 40,
            "source": [
                "print(\"As we can see the approximate values are x =2 , y =0 , z=6 , w =5\")"
            ],
            "outputs": [
                {
                    "output_type": "stream",
                    "name": "stdout",
                    "text": [
                        "As we can see the approximate values are x =2 , y =0 , z=6 , w =5\n"
                    ]
                }
            ],
            "metadata": {}
        },
        {
            "cell_type": "code",
            "execution_count": 41,
            "source": [
                "#Solving Question 2\r\n",
                "Q2.show()"
            ],
            "outputs": [
                {
                    "output_type": "stream",
                    "name": "stdout",
                    "text": [
                        "0,2,-3,-1,\n",
                        "\n",
                        "1,0,1,0,\n",
                        "\n",
                        "1,-1,0,3,\n",
                        "\n"
                    ]
                }
            ],
            "metadata": {}
        },
        {
            "cell_type": "code",
            "execution_count": 42,
            "source": [
                "my_library.GaussJordan(Q2)\r\n",
                "Q2.show() \r\n",
                "# note -0.0 is 0"
            ],
            "outputs": [
                {
                    "output_type": "stream",
                    "name": "stdout",
                    "text": [
                        "1.0,0.0,0.0,1.0,\n",
                        "\n",
                        "0.0,1.0,0.0,-2.0,\n",
                        "\n",
                        "-0.0,-0.0,1.0,-1.0,\n",
                        "\n"
                    ]
                }
            ],
            "metadata": {}
        },
        {
            "cell_type": "code",
            "execution_count": 43,
            "source": [
                "print(\"As we can see the approximate values are x =1 , y =-2 , z=-1\")"
            ],
            "outputs": [
                {
                    "output_type": "stream",
                    "name": "stdout",
                    "text": [
                        "As we can see the approximate values are x =1 , y =-2 , z=-1\n"
                    ]
                }
            ],
            "metadata": {}
        },
        {
            "cell_type": "code",
            "execution_count": 44,
            "source": [
                "#Solving Question 3\r\n",
                "Q3.show()"
            ],
            "outputs": [
                {
                    "output_type": "stream",
                    "name": "stdout",
                    "text": [
                        "0,2,1,1,0,0,\n",
                        "\n",
                        "4,0,1,0,1,0,\n",
                        "\n",
                        "-1,2,0,0,0,1,\n",
                        "\n"
                    ]
                }
            ],
            "metadata": {}
        },
        {
            "cell_type": "code",
            "execution_count": 45,
            "source": [
                "Q3_inv=my_library.inverse(Q3)\r\n",
                "\r\n",
                "for i in range(len(Q3_inv.lol)):\r\n",
                "    for j in range(len(Q3_inv.lol[0])):\r\n",
                "        Q3_inv.lol[i][j]=float(format(Q3_inv.lol[i][j],'.2f')) # approximated to 2 decimal places"
            ],
            "outputs": [],
            "metadata": {}
        },
        {
            "cell_type": "code",
            "execution_count": 46,
            "source": [
                "# INVERSE TESTING\r\n",
                "Product=my_library.Mat_product(Q3_inv,Q3_matrix,show=False)\r\n",
                "\r\n",
                "for i in range(len(Product.lol)):\r\n",
                "    for j in range(len(Product.lol[0])):\r\n",
                "        Product.lol[i][j]=float(format(Product.lol[i][j],'.2f'))\r\n",
                "Product.show()"
            ],
            "outputs": [
                {
                    "output_type": "stream",
                    "name": "stdout",
                    "text": [
                        "0.99,0.0,0.0,\n",
                        "\n",
                        "0.01,1.0,0.0,\n",
                        "\n",
                        "0.01,0.0,1.0,\n",
                        "\n"
                    ]
                }
            ],
            "metadata": {}
        },
        {
            "cell_type": "code",
            "execution_count": 47,
            "source": [
                "print(\"As expected we get the identity matrix\")"
            ],
            "outputs": [
                {
                    "output_type": "stream",
                    "name": "stdout",
                    "text": [
                        "As expected we get the identity matrix\n"
                    ]
                }
            ],
            "metadata": {}
        },
        {
            "cell_type": "code",
            "execution_count": 48,
            "source": [
                "#Solving Question 4\r\n",
                "Q4.show()"
            ],
            "outputs": [
                {
                    "output_type": "stream",
                    "name": "stdout",
                    "text": [
                        "1,4,2,3,\n",
                        "\n",
                        "0,1,4,4,\n",
                        "\n",
                        "-1,0,1,0,\n",
                        "\n",
                        "2,0,4,1,\n",
                        "\n"
                    ]
                }
            ],
            "metadata": {}
        },
        {
            "cell_type": "code",
            "execution_count": 49,
            "source": [
                "my_library.Determinant(Q4)"
            ],
            "outputs": [
                {
                    "output_type": "execute_result",
                    "data": {
                        "text/plain": [
                            "65.0"
                        ]
                    },
                    "metadata": {},
                    "execution_count": 49
                }
            ],
            "metadata": {}
        },
        {
            "cell_type": "code",
            "execution_count": null,
            "source": [],
            "outputs": [],
            "metadata": {}
        },
        {
            "cell_type": "code",
            "execution_count": null,
            "source": [],
            "outputs": [],
            "metadata": {}
        }
    ],
    "metadata": {
        "orig_nbformat": 4,
        "language_info": {
            "name": "python",
            "version": "3.9.6",
            "mimetype": "text/x-python",
            "codemirror_mode": {
                "name": "ipython",
                "version": 3
            },
            "pygments_lexer": "ipython3",
            "nbconvert_exporter": "python",
            "file_extension": ".py"
        },
        "kernelspec": {
            "name": "python3",
            "display_name": "Python 3.9.6 64-bit"
        },
        "interpreter": {
            "hash": "dc5bb08d89a07dea54be1faa1293f54c18ec78d3669ae0c9263af5ceb2e3d307"
        }
    },
    "nbformat": 4,
    "nbformat_minor": 2
}